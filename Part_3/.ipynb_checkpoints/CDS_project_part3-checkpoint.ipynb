{
  "cells": [
    {
      "cell_type": "markdown",
      "metadata": {
        "id": "xrDJG9B2NTG3"
      },
      "source": [
        "# **CDS Project: Part 3**\n",
        "\n",
        "*Institute of Software Security (E22)*  \n",
        "*Hamburg University of Technology*  \n",
        "\n",
        "## Learning objectives\n",
        "---\n",
        "\n",
        "- Choose an ML model architecture for vulnerability prediction\n",
        "- Preprocess the dataset you created in project part 2 to fit the model you selected\n",
        "- Split the dataset for cross validation\n",
        "- Create the model training pipeline, train the model using the train set and optimize the model using the test set\n",
        "- Create loss graphs of the learning behaviour\n",
        "- Generate predictions for the validation set\n",
        "- Evaluate the results using appropriate metrics (add questions: reduce overfitting? optional 5-fold cross validation)\n",
        "\n",
        "\n",
        "## Materials\n",
        "---\n",
        "\n",
        "- Lecture Slides 2, 3, 5 and 6, 9.\n",
        "- PyTorch Documentation: [Datasets and Data Loaders](https://pytorch.org/tutorials/beginner/basics/data_tutorial.html) \n",
        "- \n"
      ]
    },
    {
      "cell_type": "markdown",
      "metadata": {
        "id": "_dJY_HF-QpnW"
      },
      "source": [
        "## Project Description\n",
        "\n",
        "In this project, you will create, train and evaluate your own machine learning model to predict vulnerabilities in source code. In addition, you will preprocess the data to prepare it to be used in the learning pipeline.\n",
        "You will be using the dataset created in part 2 in this part. "
      ]
    },
    {
      "cell_type": "markdown",
      "metadata": {
        "id": "ehohznS0Sb-K"
      },
      "source": [
        "## **Task 1**\n",
        "\n",
        "- There are several ML model architectures that you can use for vulnerabilitiy prediction such as RNN, CNN, Multilabel Perceptron (MLP), Gated Recurrent Units (GRU) and so on. Choose a suitable ML model architecture for your project based on the strenghts and weaknesses of these algorithms.\n",
        "\n",
        "- For the model architecture, you can choose from 2 paths:\n",
        "  1. Preprocess the functions into vectors and continue the learning process similar to project 1.\n",
        "  For instance, the code in the dataset needs to be converted into some type of vector representation that can be processed by a machine. After selecting a suitable model, preprocess the content in your dataset accordingly. Several models are available to preprocess code data such as:\n",
        "    - Code2Vec: https://code2vec.org/\n",
        "    - CodeBERT: https://github.com/microsoft/CodeBERT/tree/master/UniXcoder\n",
        "    - CodeT5: https://github.com/salesforce/CodeT5\n",
        "\n",
        "  2. Choose a model architecture that is capable of handeling raw text inputs (LSTM, GRU, etc.) as an input layer. Further information on text processing using pytorch:\n",
        "    - https://pytorch.org/text/stable/index.html\n",
        "    - https://pytorch.org/tutorials/\n"
      ]
    },
    {
      "cell_type": "markdown",
      "metadata": {
        "id": "ILs2cc6wSyd_"
      },
      "source": [
        "## Task 2\n",
        "\n",
        "- Split your dataset appropriately into train, test, and validation set and justify your split.  "
      ]
    },
    {
      "cell_type": "code",
      "execution_count": null,
      "metadata": {
        "id": "EzEtJcCMQtNk"
      },
      "outputs": [],
      "source": [
        "# TODO: Load the dataset\n",
        "\n",
        "# TODO: Split the dataset into train, test and validation set"
      ]
    },
    {
      "cell_type": "markdown",
      "metadata": {
        "id": "jn9kBEXOT0Tn"
      },
      "source": [
        "## Task 3\n",
        "- Create a preprocessing and training/test pipeline. This can also be done in separate steps.\n",
        "- Train the model on a small dataset (e.g.: 1000 samples depending on the computational capacity) and make sure everything is working properly\n",
        "- Show a graph showing the changes in loss function druring the training epochs \n",
        "- Select proper metrics to evaluate the performance of the model\n",
        "- If everything works well, then change the model parameters (e.g: number of neurons, layer depth) and regenerate the results. Comapare these results with your previous results and elaborate your findings."
      ]
    },
    {
      "cell_type": "code",
      "execution_count": null,
      "metadata": {
        "id": "heHHBCvUUSW4"
      },
      "outputs": [],
      "source": [
        "# TODO: Implement your ML pipeline and perform evaluation"
      ]
    }
  ],
  "metadata": {
    "colab": {
      "provenance": []
    },
    "kernelspec": {
      "display_name": "Python 3",
      "name": "python3"
    },
    "language_info": {
      "name": "python"
    }
  },
  "nbformat": 4,
  "nbformat_minor": 0
}
